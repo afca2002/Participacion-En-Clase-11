{
 "cells": [
  {
   "cell_type": "markdown",
   "metadata": {},
   "source": [
    "# [Participación en clase 12] ejercicio determinante\n",
    "## Resuelva el siguiente ejercicio: \n",
    "\n",
    "### Realizado por: Correa Adrian\n",
    "### Fecha: 23/01/2025\n",
    "### link de GitHub: https://github.com/afca2002/Participacion-En-Clase-11.git"
   ]
  },
  {
   "cell_type": "code",
   "execution_count": 1,
   "metadata": {},
   "outputs": [],
   "source": [
    "%load_ext autoreload"
   ]
  },
  {
   "cell_type": "markdown",
   "metadata": {},
   "source": [
    "# Examen"
   ]
  },
  {
   "cell_type": "markdown",
   "metadata": {},
   "source": [
    "## Determinante"
   ]
  },
  {
   "cell_type": "code",
   "execution_count": null,
   "metadata": {},
   "outputs": [],
   "source": [
    "%autoreload 2\n",
    "from src import (\n",
    "    eliminacion_gaussiana,\n",
    "    descomposicion_LU,\n",
    "    resolver_LU,\n",
    "    matriz_aumentada,\n",
    "    separar_m_aumentada,\n",
    ")\n",
    "\n",
    "\n",
    "# ####################################################################\n",
    "def calc_determinante(A: list[list[float]]) -> float:\n",
    "    \"\"\"Función que calcula el determinante usando el método...\n",
    "    [Descomposición LU, eliminación gaussiana, Gauss-Jordan, Gauss-Jacobi o Gauss-Seidel]\n",
    "\n",
    "    ## Parameters\n",
    "    ``A``: Matriz cuadrada de tamaño n x n\n",
    "\n",
    "    ## Return\n",
    "    ``detA``: Determinante de la matriz A\n",
    "\n",
    "    \"\"\"\n",
    "    # completar\n",
    "    return"
   ]
  },
  {
   "cell_type": "markdown",
   "metadata": {},
   "source": [
    "# Ejercicio 1"
   ]
  },
  {
   "cell_type": "code",
   "execution_count": 6,
   "metadata": {},
   "outputs": [
    {
     "name": "stdout",
     "output_type": "stream",
     "text": [
      "Determinante de A1 = 9912776.0\n",
      "La matriz A es invertible, por tanto el sistema A·x = b tiene solución única.\n"
     ]
    }
   ],
   "source": [
    "def calc_determinante(A: list[list[float]]) -> float:\n",
    "    import copy\n",
    "    \n",
    "    # Hacemos una copia \"profunda\" de A para no alterar la original\n",
    "    M = copy.deepcopy(A)\n",
    "    n = len(M)\n",
    "    det = 1.0\n",
    "\n",
    "    for i in range(n):\n",
    "        # 1) Pivoteo parcial: buscamos la fila con el valor absoluto más grande en la columna i\n",
    "        max_fila = i\n",
    "        max_valor = abs(M[i][i])\n",
    "        for r in range(i+1, n):\n",
    "            if abs(M[r][i]) > max_valor:\n",
    "                max_valor = abs(M[r][i])\n",
    "                max_fila = r\n",
    "        \n",
    "        # Si encontramos una fila mejor para el pivote, la intercambiamos\n",
    "        if max_fila != i:\n",
    "            M[i], M[max_fila] = M[max_fila], M[i]  # swap de filas\n",
    "            det = -det  # cada swap de filas cambia el signo del determinante\n",
    "        \n",
    "        # Si el pivote es 0 (o muy cercano a 0), el determinante es 0\n",
    "        if abs(M[i][i]) < 1e-14:\n",
    "            return 0.0\n",
    "        \n",
    "        # 2) Multiplicamos el determinante por el pivote actual\n",
    "        pivote = M[i][i]\n",
    "        det *= pivote\n",
    "        \n",
    "        # 3) Eliminamos hacia abajo en la columna i\n",
    "        for r in range(i+1, n):\n",
    "            factor = M[r][i] / pivote\n",
    "            for c in range(i, n):\n",
    "                M[r][c] -= factor * M[i][c]\n",
    "    \n",
    "    return det\n",
    "\n",
    "A1 = [\n",
    "    [-4,  2, -4, -4,  1,  2,  5,  3,  5,  1],\n",
    "    [ 1,  0,  4,  3,  0, -2,  3,  0,  1,  5],\n",
    "    [ 5,  5, -4,  5, -4,  2,  2,  2,  4,  4],\n",
    "    [-1,  3,  4, -1, -4,  0,  5,  0,  0,  5],\n",
    "    [ 4,  1,  4,  2,  0,  0,  3, -1,  0,  2],\n",
    "    [ 2, -2,  1, -1, -2, -3,  2, -2,  4, -1],\n",
    "    [ 3, -2, -3, -2, -1, -3,  5, -1,  5,  0],\n",
    "    [ 3,  4, -3,  3, -2,  2, -4, -4,  1,  5],\n",
    "    [-4,  0,  3,  3, -3, -2, -2,  0,  5, -4],\n",
    "    [-2,  4,  4, -2, -1,  1,  5, -1,  3, -3],\n",
    "]\n",
    "\n",
    "detA1 = calc_determinante(A1)\n",
    "print(\"Determinante de A1 =\", detA1)\n",
    "\n",
    "\n",
    "\n",
    "# Usamos un umbral pequeño para flotantes (por ejemplo, 1e-14)\n",
    "tol = 1e-14\n",
    "\n",
    "if abs(detA1) > tol:\n",
    "    print(\"La matriz A es invertible, por tanto el sistema A·x = b tiene solución única.\")\n",
    "else:\n",
    "    print(\"La matriz A no es invertible, por tanto el sistema podría tener infinitas soluciones o no tener solución.\")\n"
   ]
  },
  {
   "cell_type": "markdown",
   "metadata": {},
   "source": [
    "# Ejercicio 2"
   ]
  },
  {
   "cell_type": "code",
   "execution_count": 10,
   "metadata": {},
   "outputs": [],
   "source": [
    "A2 = [\n",
    "    [2, 2, 4, 5, -2, -3, 2, -2],\n",
    "    [-1, -1, 3, 2, 1, 1, -4, 4],\n",
    "    [2, 5, -3, -3, -2, 2, 5, 3],\n",
    "    [-2, -4, 0, 1, -1, 5, -4, -1],\n",
    "    [1, -2, -1, 5, 5, 2, 1, -2],\n",
    "    [5, 4, 0, 3, 4, -1, -3, -2],\n",
    "    [4, -4, 1, 2, 3, 3, -1, 3],\n",
    "    [-2, 1, -3, 0, 5, 4, 4, -4],\n",
    "]\n",
    "calc_determinante(A2)"
   ]
  },
  {
   "cell_type": "code",
   "execution_count": 7,
   "metadata": {},
   "outputs": [
    {
     "name": "stdout",
     "output_type": "stream",
     "text": [
      "Determinante de A2 = 2594824.0\n",
      "El determinante es distinto de 0, por lo que A2 es invertible.\n",
      "⇒ El sistema A2·x = b tiene solución única para cualquier vector b.\n"
     ]
    }
   ],
   "source": [
    "\n",
    "A2 = [\n",
    "    [  2,  2,  4,  5, -2, -3,  2, -2],\n",
    "    [ -1, -1,  3,  2,  1,  1, -4,  4],\n",
    "    [  2,  5, -3, -3, -2,  2,  5,  3],\n",
    "    [ -2, -4,  0,  1, -1,  5, -4, -1],\n",
    "    [  1, -2, -1,  5,  5,  2,  1, -2],\n",
    "    [  5,  4,  0,  3,  4, -1, -3, -2],\n",
    "    [  4, -4,  1,  2,  3,  3, -1,  3],\n",
    "    [ -2,  1, -3,  0,  5,  5,  4, -4],\n",
    "]\n",
    "\n",
    "detA2 = calc_determinante(A2)\n",
    "print(\"Determinante de A2 =\", detA2)\n",
    "\n",
    "# Para decidir el tipo de solución (umbral de tolerancia flotante)\n",
    "tol = 1e-14\n",
    "if abs(detA2) < tol:\n",
    "    print(\"El determinante es 0, por lo que A2 NO es invertible.\")\n",
    "    print(\"⇒ El sistema puede ser incompatible (sin soluciones) o tener infinitas soluciones.\")\n",
    "else:\n",
    "    print(\"El determinante es distinto de 0, por lo que A2 es invertible.\")\n",
    "    print(\"⇒ El sistema A2·x = b tiene solución única para cualquier vector b.\")\n"
   ]
  }
 ],
 "metadata": {
  "kernelspec": {
   "display_name": "Python 3",
   "language": "python",
   "name": "python3"
  },
  "language_info": {
   "codemirror_mode": {
    "name": "ipython",
    "version": 3
   },
   "file_extension": ".py",
   "mimetype": "text/x-python",
   "name": "python",
   "nbconvert_exporter": "python",
   "pygments_lexer": "ipython3",
   "version": "3.13.0"
  }
 },
 "nbformat": 4,
 "nbformat_minor": 2
}
